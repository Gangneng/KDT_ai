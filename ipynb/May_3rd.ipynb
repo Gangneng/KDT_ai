{
 "cells": [
  {
   "cell_type": "markdown",
   "metadata": {},
   "source": [
    "# 표본분포\n",
    "\n",
    "## 표본 추출 방법 중 단순 랜덤 추출법"
   ]
  },
  {
   "cell_type": "code",
   "execution_count": 1,
   "metadata": {},
   "outputs": [],
   "source": [
    "import random"
   ]
  },
  {
   "cell_type": "code",
   "execution_count": 2,
   "metadata": {},
   "outputs": [
    {
     "data": {
      "text/plain": [
       "[8, 5, 1, 9, 3, 4, 9, 7, 1, 8]"
      ]
     },
     "execution_count": 2,
     "metadata": {},
     "output_type": "execute_result"
    }
   ],
   "source": [
    "[random.randint(1,10) for i in range(10)]"
   ]
  },
  {
   "cell_type": "markdown",
   "metadata": {},
   "source": [
    "# 표본 평균"
   ]
  },
  {
   "cell_type": "code",
   "execution_count": 36,
   "metadata": {},
   "outputs": [],
   "source": [
    "import numpy as np\n",
    "import matplotlib as plt"
   ]
  },
  {
   "cell_type": "code",
   "execution_count": 37,
   "metadata": {},
   "outputs": [
    {
     "name": "stdout",
     "output_type": "stream",
     "text": [
      "mean 9.998115, var 0.905489\n"
     ]
    },
    {
     "data": {
      "image/png": "[encoded data removed]",
      "text/plain": [
       "<Figure size 432x288 with 1 Axes>"
      ]
     },
     "metadata": {
      "needs_background": "light"
     },
     "output_type": "display_data"
    }
   ],
   "source": [
    "xbars = [np.mean(np.random.normal(loc=10, scale=3, size=10)) for i in range(10000)]\n",
    "print(\"mean %f, var %f\"%(np.mean(xbars), np.var(xbars)))\n",
    "h = plt.pyplot.hist(xbars, range=(5,15),bins=30)"
   ]
  },
  {
   "cell_type": "code",
   "execution_count": 39,
   "metadata": {},
   "outputs": [
    {
     "name": "stdout",
     "output_type": "stream",
     "text": [
      "mean 5.003639, var 0.921982\n"
     ]
    },
    {
     "data": {
      "image/png": "[encoded data removed]",
      "text/plain": [
       "<Figure size 432x288 with 1 Axes>"
      ]
     },
     "metadata": {
      "needs_background": "light"
     },
     "output_type": "display_data"
    }
   ],
   "source": [
    "xbars = [np.mean(np.random.normal(loc=5, scale=3, size=10)) for i in range(10000)]\n",
    "print(\"mean %f, var %f\"%(np.mean(xbars), np.var(xbars)))\n",
    "h = plt.pyplot.hist(xbars, range=(5,15),bins=30)"
   ]
  },
  {
   "cell_type": "markdown",
   "metadata": {},
   "source": [
    "# 중심극한정리"
   ]
  },
  {
   "cell_type": "code",
   "execution_count": 43,
   "metadata": {},
   "outputs": [
    {
     "name": "stdout",
     "output_type": "stream",
     "text": [
      "mean 5.000586, var 1.647008\n"
     ]
    },
    {
     "data": {
      "image/png": "[encoded data removed]",
      "text/plain": [
       "<Figure size 432x288 with 1 Axes>"
      ]
     },
     "metadata": {
      "needs_background": "light"
     },
     "output_type": "display_data"
    }
   ],
   "source": [
    "n = 5\n",
    "xbars = [np.mean(np.random.rand(n) * 10) for i in range(10000)]\n",
    "print(\"mean %f, var %f\"%(np.mean(xbars), np.var(xbars)))\n",
    "h = plt.pyplot.hist(xbars, range=(0,10),bins=100)"
   ]
  },
  {
   "cell_type": "code",
   "execution_count": 44,
   "metadata": {},
   "outputs": [
    {
     "name": "stdout",
     "output_type": "stream",
     "text": [
      "mean 5.001073, var 0.827540\n"
     ]
    },
    {
     "data": {
      "image/png": "[encoded data removed]",
      "text/plain": [
       "<Figure size 432x288 with 1 Axes>"
      ]
     },
     "metadata": {
      "needs_background": "light"
     },
     "output_type": "display_data"
    }
   ],
   "source": [
    "n = 10\n",
    "xbars = [np.mean(np.random.rand(n) * 10) for i in range(10000)]\n",
    "print(\"mean %f, var %f\"%(np.mean(xbars), np.var(xbars)))\n",
    "h = plt.pyplot.hist(xbars, range=(0,10),bins=100)"
   ]
  },
  {
   "cell_type": "markdown",
   "metadata": {},
   "source": [
    "n이 크면 클수록 정규분포에 가까워지는 모습을 관찰할 수 있다"
   ]
  },
  {
   "cell_type": "code",
   "execution_count": 46,
   "metadata": {},
   "outputs": [
    {
     "name": "stdout",
     "output_type": "stream",
     "text": [
      "mean 5.007290, var 0.276743\n"
     ]
    },
    {
     "data": {
      "image/png": "[encoded data removed]",
      "text/plain": [
       "<Figure size 432x288 with 1 Axes>"
      ]
     },
     "metadata": {
      "needs_background": "light"
     },
     "output_type": "display_data"
    }
   ],
   "source": [
    "n = 30 \n",
    "xbars = [np.mean(np.random.rand(n) * 10) for i in range(10000)]\n",
    "print(\"mean %f, var %f\"%(np.mean(xbars), np.var(xbars)))\n",
    "h = plt.pyplot.hist(xbars, range=(0,10),bins=100)"
   ]
  },
  {
   "cell_type": "markdown",
   "metadata": {},
   "source": [
    "n = 2일 땐 정규분포같은 모양새가 나오지 않는다... n을 늘려가다보면 어떻게 될까"
   ]
  },
  {
   "cell_type": "code",
   "execution_count": 48,
   "metadata": {},
   "outputs": [
    {
     "name": "stdout",
     "output_type": "stream",
     "text": [
      "mean 3.023312, var 4.484161\n"
     ]
    },
    {
     "data": {
      "image/png": "[encoded data removed]",
      "text/plain": [
       "<Figure size 432x288 with 1 Axes>"
      ]
     },
     "metadata": {
      "needs_background": "light"
     },
     "output_type": "display_data"
    }
   ],
   "source": [
    "n = 2\n",
    "# exponential = 지수 분포로부터 얻은 임의의 샘플을 반환\n",
    "xbars = [np.mean(np.random.exponential(scale=3, size=n)) for i in range(10000)]\n",
    "print(\"mean %f, var %f\"%(np.mean(xbars), np.var(xbars)))\n",
    "h = plt.pyplot.hist(xbars, range=(0,10),bins=100)"
   ]
  },
  {
   "cell_type": "code",
   "execution_count": 50,
   "metadata": {},
   "outputs": [
    {
     "name": "stdout",
     "output_type": "stream",
     "text": [
      "mean 2.991689, var 0.859336\n"
     ]
    },
    {
     "data": {
      "image/png": "[encoded data removed]",
      "text/plain": [
       "<Figure size 432x288 with 1 Axes>"
      ]
     },
     "metadata": {
      "needs_background": "light"
     },
     "output_type": "display_data"
    }
   ],
   "source": [
    "n = 10\n",
    "# exponential = 지수 분포로부터 얻은 임의의 샘플을 반환\n",
    "xbars = [np.mean(np.random.exponential(scale=3, size=n)) for i in range(10000)]\n",
    "print(\"mean %f, var %f\"%(np.mean(xbars), np.var(xbars)))\n",
    "h = plt.pyplot.hist(xbars, range=(0,10),bins=100)"
   ]
  },
  {
   "cell_type": "code",
   "execution_count": 51,
   "metadata": {},
   "outputs": [
    {
     "name": "stdout",
     "output_type": "stream",
     "text": [
      "mean 3.005878, var 0.299131\n"
     ]
    },
    {
     "data": {
      "image/png": "[encoded data removed]",
      "text/plain": [
       "<Figure size 432x288 with 1 Axes>"
      ]
     },
     "metadata": {
      "needs_background": "light"
     },
     "output_type": "display_data"
    }
   ],
   "source": [
    "n = 30\n",
    "# exponential = 지수 분포로부터 얻은 임의의 샘플을 반환\n",
    "xbars = [np.mean(np.random.exponential(scale=3, size=n)) for i in range(10000)]\n",
    "print(\"mean %f, var %f\"%(np.mean(xbars), np.var(xbars)))\n",
    "h = plt.pyplot.hist(xbars, range=(0,10),bins=100)"
   ]
  },
  {
   "cell_type": "markdown",
   "metadata": {},
   "source": [
    "# 표본평균의 점 추정값"
   ]
  },
  {
   "cell_type": "code",
   "execution_count": 52,
   "metadata": {
    "scrolled": true
   },
   "outputs": [
    {
     "name": "stdout",
     "output_type": "stream",
     "text": [
      "4.6\n"
     ]
    }
   ],
   "source": [
    "samples = [9,4,0,8,1,3,7,8,4,2]\n",
    "print(np.mean(samples))"
   ]
  },
  {
   "cell_type": "markdown",
   "metadata": {},
   "source": [
    "# 표본평균의 구간 추정값\n",
    "\n",
    "어떤 농장에서 생산된 계란 30개의 표본을 뽑았더니 그 무게가 아래와 같다."
   ]
  },
  {
   "cell_type": "code",
   "execution_count": 54,
   "metadata": {},
   "outputs": [
    {
     "name": "stdout",
     "output_type": "stream",
     "text": [
      "평균 10.43, 표준편차 : 1.11\n",
      "zalpha :  1.959963984540054\n"
     ]
    }
   ],
   "source": [
    "w = [10.7, 11.7, 9.8, 11.4, 10.8, 9.9, 10.1, 8.8, 12.2, 11.0, 11.3, 11.1, 10.3, \n",
    "     10.0, 9.9, 11.1, 11.7, 11.5, 9.1, 10.3, 8.6, 12.1, 10.0, 13.0, 9.2, 9.8, 9.3, 9.4, 9.6, 9.2]\n",
    "xbar = np.mean(w)\n",
    "sd = np.std(w, ddof=1)\n",
    "print(\"평균 %.2f, 표준편차 : %.2f\" %(xbar, sd))\n",
    "import scipy.stats\n",
    "alpha = 0.05\n",
    "zalpha = scipy.stats.norm.ppf(1-alpha/2)\n",
    "print(\"zalpha : \", zalpha)"
   ]
  },
  {
   "cell_type": "markdown",
   "metadata": {},
   "source": [
    "# 모비율의 추정"
   ]
  },
  {
   "cell_type": "code",
   "execution_count": 57,
   "metadata": {},
   "outputs": [
    {
     "name": "stdout",
     "output_type": "stream",
     "text": [
      "phat 0.320, zalpha: 1.960, sd: 0.038\n",
      "[0.24534963990338954, 0.3946503600966105]\n"
     ]
    }
   ],
   "source": [
    "x = 48\n",
    "n = 150\n",
    "phat = x / n\n",
    "alpha = 0.05\n",
    "zalpha = scipy.stats.norm.ppf(1-alpha/2)\n",
    "sd = np.sqrt(phat*(1-phat)/n)\n",
    "print(\"phat %.3f, zalpha: %.3f, sd: %.3f\"%(phat, zalpha, sd))\n",
    "ci = [phat - zalpha * sd, phat + zalpha * sd]\n",
    "print(ci)"
   ]
  },
  {
   "cell_type": "markdown",
   "metadata": {},
   "source": [
    "# 모평균의 검정"
   ]
  },
  {
   "cell_type": "code",
   "execution_count": 60,
   "metadata": {},
   "outputs": [
    {
     "name": "stdout",
     "output_type": "stream",
     "text": [
      "평균 10.43, 표준편차 : 1.11\n",
      "검정통계량 :  -0.34544881283443796\n",
      "임계값 :  1.959963984540054\n"
     ]
    }
   ],
   "source": [
    "w = [10.7, 11.7, 9.8, 11.4, 10.8, 9.9, 10.1, 8.8, 12.2, 11.0, 11.3, 11.1, 10.3, \n",
    "     10.0, 9.9, 11.1, 11.7, 11.5, 9.1, 10.3, 8.6, 12.1, 10.0, 13.0, 9.2, 9.8, 9.3, 9.4, 9.6, 9.2]\n",
    "mu = 10.5\n",
    "xbar = np.mean(w)\n",
    "sd = np.std(w, ddof=1)\n",
    "print(\"평균 %.2f, 표준편차 : %.2f\" %(xbar, sd))\n",
    "z = (xbar-mu) / (sd/np.sqrt(len(w)))\n",
    "print(\"검정통계량 : \", z)\n",
    "alpha = 0.05\n",
    "cri = scipy.stats.norm.ppf(1-alpha/2)\n",
    "print(\"임계값 : \",cri)"
   ]
  },
  {
   "cell_type": "markdown",
   "metadata": {},
   "source": [
    "# 교차 엔트로피"
   ]
  },
  {
   "cell_type": "code",
   "execution_count": 62,
   "metadata": {},
   "outputs": [
    {
     "name": "stdout",
     "output_type": "stream",
     "text": [
      "0.3219280948873623\n",
      "1.0\n",
      "2.321928094887362\n"
     ]
    }
   ],
   "source": [
    "def crossentropy(P, Q):\n",
    "    return sum([-P[i]*np.log2(Q[i]) for i in range(len(P))])\n",
    "\n",
    "P=[1,0]\n",
    "Q=[0.8, 0.2]\n",
    "print(crossentropy(P, Q))\n",
    "Q=[0.5, 0.5]\n",
    "print(crossentropy(P, Q))\n",
    "Q=[0.2, 0.8]\n",
    "print(crossentropy(P, Q))"
   ]
  },
  {
   "cell_type": "code",
   "execution_count": null,
   "metadata": {},
   "outputs": [],
   "source": []
  }
 ],
 "metadata": {
  "kernelspec": {
   "display_name": "Python 3",
   "language": "python",
   "name": "python3"
  },
  "language_info": {
   "codemirror_mode": {
    "name": "ipython",
    "version": 3
   },
   "file_extension": ".py",
   "mimetype": "text/x-python",
   "name": "python",
   "nbconvert_exporter": "python",
   "pygments_lexer": "ipython3",
   "version": "3.7.4"
  }
 },
 "nbformat": 4,
 "nbformat_minor": 2
}
